{
 "cells": [
  {
   "cell_type": "markdown",
   "id": "a1b7d09c",
   "metadata": {},
   "source": [
    "#### 1. Посмотреть документацию к API GitHub, разобраться как вывести список репозиториев для конкретного пользователя, сохранить JSON-вывод в файле *.json."
   ]
  },
  {
   "cell_type": "code",
   "execution_count": 1,
   "id": "be5c97d2",
   "metadata": {},
   "outputs": [],
   "source": [
    "import requests\n",
    "import json"
   ]
  },
  {
   "cell_type": "code",
   "execution_count": 2,
   "id": "df3f4014",
   "metadata": {},
   "outputs": [],
   "source": [
    "url = \"https://api.github.com\"\n",
    "user = \"cempah\""
   ]
  },
  {
   "cell_type": "code",
   "execution_count": 3,
   "id": "122da728",
   "metadata": {},
   "outputs": [],
   "source": [
    "response = requests.get(f\"{url}/users/{user}/repos\")"
   ]
  },
  {
   "cell_type": "code",
   "execution_count": 7,
   "id": "effb19e9",
   "metadata": {},
   "outputs": [],
   "source": [
    "with open(\"data.json\", \"w\") as f:\n",
    "    json.dump(response.json(), f)"
   ]
  },
  {
   "cell_type": "code",
   "execution_count": 8,
   "id": "7a64feb7",
   "metadata": {},
   "outputs": [
    {
     "name": "stdout",
     "output_type": "stream",
     "text": [
      "-1225-Python\n",
      "mysql\n",
      "Projects\n",
      "Python-Libraries\n"
     ]
    }
   ],
   "source": [
    "for i in response.json():\n",
    "    print(i['name'])"
   ]
  }
 ],
 "metadata": {
  "kernelspec": {
   "display_name": "Python 3",
   "language": "python",
   "name": "python3"
  },
  "language_info": {
   "codemirror_mode": {
    "name": "ipython",
    "version": 3
   },
   "file_extension": ".py",
   "mimetype": "text/x-python",
   "name": "python",
   "nbconvert_exporter": "python",
   "pygments_lexer": "ipython3",
   "version": "3.8.8"
  }
 },
 "nbformat": 4,
 "nbformat_minor": 5
}
